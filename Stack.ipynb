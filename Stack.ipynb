{
  "nbformat": 4,
  "nbformat_minor": 0,
  "metadata": {
    "colab": {
      "provenance": []
    },
    "kernelspec": {
      "name": "python3",
      "display_name": "Python 3"
    },
    "language_info": {
      "name": "python"
    }
  },
  "cells": [
    {
      "cell_type": "code",
      "execution_count": null,
      "metadata": {
        "id": "DqzuZbZje7-Y"
      },
      "outputs": [],
      "source": [
        "class Stack():\n",
        "  def __init__(self):\n",
        "    self.stack=[]\n",
        "  def push(self,i):\n",
        "    self.stack.append(i)\n",
        "  def pop(self):\n",
        "    return self.stack.pop()\n",
        "  def top(self):\n",
        "    return self.stack[-1]\n",
        "  def isEmpty(self):\n",
        "    return self.stack==[]\n",
        "  def prints(self):\n",
        "    print(self.stack)\n"
      ]
    },
    {
      "cell_type": "code",
      "source": [
        "s=Stack()\n",
        "s.push(23)\n",
        "s.push(44)\n",
        "s.pop()\n",
        "s.push(13)\n",
        "s.prints()\n",
        "s.top()"
      ],
      "metadata": {
        "colab": {
          "base_uri": "https://localhost:8080/"
        },
        "id": "06qTWJqYfNO_",
        "outputId": "8523f78b-a33d-43bd-d66c-8e2d798f725a"
      },
      "execution_count": null,
      "outputs": [
        {
          "output_type": "stream",
          "name": "stdout",
          "text": [
            "[23, 13]\n"
          ]
        },
        {
          "output_type": "execute_result",
          "data": {
            "text/plain": [
              "13"
            ]
          },
          "metadata": {},
          "execution_count": 5
        }
      ]
    },
    {
      "cell_type": "code",
      "source": [
        "#determine if paranthesis is balanced\n",
        "def isBalanced(s):\n",
        "  open=['(','{','[']\n",
        "  close=[')','}',']']\n",
        "  st=Stack()\n",
        "  for i in range(len(s)):\n",
        "    if s[i] in open:\n",
        "      st.push(s[i])\n",
        "    elif s[i] in close:\n",
        "      if s[i]==')':\n",
        "        if st.top()=='(':\n",
        "          st.pop()\n",
        "        else:\n",
        "          return False\n",
        "      elif s[i]=='}':\n",
        "        if st.top()=='{':\n",
        "          st.pop()\n",
        "        else:\n",
        "          return False\n",
        "      elif s[i]==']':\n",
        "        if st.top()=='[':\n",
        "          st.pop()\n",
        "        else:\n",
        "          return False\n",
        "  if st.isEmpty():\n",
        "    return True\n",
        "  return False\n",
        "\n",
        "isBalanced(\"{{()}}\")"
      ],
      "metadata": {
        "colab": {
          "base_uri": "https://localhost:8080/"
        },
        "id": "u6Gm41cHgC6K",
        "outputId": "c9a328e9-9546-403e-88e8-b85ad03048f7"
      },
      "execution_count": null,
      "outputs": [
        {
          "output_type": "execute_result",
          "data": {
            "text/plain": [
              "True"
            ]
          },
          "metadata": {},
          "execution_count": 14
        }
      ]
    },
    {
      "cell_type": "code",
      "source": [
        "#convert int to binary\n",
        "def convert(s):\n",
        "  st=Stack()\n",
        "  k=''\n",
        "  while s>0:\n",
        "    r=s%2\n",
        "    s=s//2\n",
        "    st.push(r)\n",
        "  while not st.isEmpty():\n",
        "    k+=str(st.pop())\n",
        "  return k\n",
        "convert(5)"
      ],
      "metadata": {
        "colab": {
          "base_uri": "https://localhost:8080/",
          "height": 36
        },
        "id": "_b9r4TOKgQ_q",
        "outputId": "1ea354f0-a5f4-40ff-d981-0454f794ba82"
      },
      "execution_count": null,
      "outputs": [
        {
          "output_type": "execute_result",
          "data": {
            "text/plain": [
              "'101'"
            ],
            "application/vnd.google.colaboratory.intrinsic+json": {
              "type": "string"
            }
          },
          "metadata": {},
          "execution_count": 22
        }
      ]
    },
    {
      "cell_type": "code",
      "source": [
        "#reverse string\n",
        "def reverse(s):\n",
        "  st=Stack()\n",
        "  for i in range(len(s)):\n",
        "    st.push(s[i])\n",
        "  k=''\n",
        "  while not st.isEmpty():\n",
        "    k+=st.pop()\n",
        "  return k\n",
        "reverse(\"werty\")"
      ],
      "metadata": {
        "colab": {
          "base_uri": "https://localhost:8080/",
          "height": 36
        },
        "id": "K2mXk-KrjYoW",
        "outputId": "bf025a74-bb38-4827-88fe-48e7745ca693"
      },
      "execution_count": null,
      "outputs": [
        {
          "output_type": "execute_result",
          "data": {
            "text/plain": [
              "'ytrew'"
            ],
            "application/vnd.google.colaboratory.intrinsic+json": {
              "type": "string"
            }
          },
          "metadata": {},
          "execution_count": 24
        }
      ]
    },
    {
      "cell_type": "code",
      "source": [],
      "metadata": {
        "id": "NmAgeSG3u38P"
      },
      "execution_count": null,
      "outputs": []
    }
  ]
}